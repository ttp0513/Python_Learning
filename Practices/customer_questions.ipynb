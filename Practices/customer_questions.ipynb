{
 "cells": [
  {
   "cell_type": "markdown",
   "id": "302f56b8",
   "metadata": {},
   "source": [
    "###  What are the highest and lowest priced items we sell?\n",
    "\n",
    "Based on the list of prices below. Use Python to determine this."
   ]
  },
  {
   "cell_type": "code",
   "execution_count": 10,
   "id": "5c6e2489",
   "metadata": {},
   "outputs": [
    {
     "name": "stdout",
     "output_type": "stream",
     "text": [
      "Highest Price:  129.99\n",
      "Lowest Price:  49.99\n"
     ]
    }
   ],
   "source": [
    "price_list = [129.99, 99.99, 119.19, 99.99, 89.99, 79.99, 49.99]\n",
    "highest_price = max(price_list) \n",
    "lowest_price = min(price_list) \n",
    "print(\"Highest Price: \", highest_price)\n",
    "print(\"Lowest Price: \", lowest_price)"
   ]
  },
  {
   "cell_type": "markdown",
   "id": "08a76ff6",
   "metadata": {},
   "source": [
    "How much would it cost for a customer to purchase two of every item in the price list?"
   ]
  },
  {
   "cell_type": "code",
   "execution_count": 11,
   "id": "d41b2963",
   "metadata": {},
   "outputs": [
    {
     "name": "stdout",
     "output_type": "stream",
     "text": [
      "Total Price if each item is purchased twice:  1338.26\n"
     ]
    }
   ],
   "source": [
    "total_price_2x = round(sum(price_list) * 2, 2)\n",
    "print(\"Total Price if each item is purchased twice: \", total_price_2x)"
   ]
  }
 ],
 "metadata": {
  "kernelspec": {
   "display_name": "Python 3",
   "language": "python",
   "name": "python3"
  },
  "language_info": {
   "codemirror_mode": {
    "name": "ipython",
    "version": 3
   },
   "file_extension": ".py",
   "mimetype": "text/x-python",
   "name": "python",
   "nbconvert_exporter": "python",
   "pygments_lexer": "ipython3",
   "version": "3.13.5"
  }
 },
 "nbformat": 4,
 "nbformat_minor": 5
}

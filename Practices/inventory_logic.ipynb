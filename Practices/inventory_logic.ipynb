{
 "cells": [
  {
   "cell_type": "markdown",
   "id": "f306059e",
   "metadata": {},
   "source": [
    "### Inventory Logic\n",
    "\n",
    "I need you to create some logic that returns Boolean values depending on Inventory levels and other factors.\n",
    "\n",
    "Our current inventory level is 5 units."
   ]
  },
  {
   "cell_type": "code",
   "execution_count": null,
   "id": "092f66b8",
   "metadata": {},
   "outputs": [],
   "source": [
    "inventory_count = 5"
   ]
  },
  {
   "cell_type": "code",
   "execution_count": null,
   "id": "66f33053",
   "metadata": {},
   "outputs": [],
   "source": []
  },
  {
   "cell_type": "markdown",
   "id": "e6093e31",
   "metadata": {},
   "source": [
    "### Do we have any stock?\n",
    "\n",
    "Write logic that returns True if we have 0 units of inventory."
   ]
  },
  {
   "cell_type": "code",
   "execution_count": 5,
   "id": "8da9b9a8",
   "metadata": {},
   "outputs": [
    {
     "data": {
      "text/plain": [
       "False"
      ]
     },
     "execution_count": 5,
     "metadata": {},
     "output_type": "execute_result"
    }
   ],
   "source": [
    "inventory_count == 0"
   ]
  },
  {
   "cell_type": "markdown",
   "id": "5ad239a7",
   "metadata": {},
   "source": [
    "### Do we have a safe level of inventory?\n",
    "\n",
    "Write logic that returns True if we have more than five units of inventory."
   ]
  },
  {
   "cell_type": "code",
   "execution_count": 6,
   "id": "f8f7ff90",
   "metadata": {},
   "outputs": [
    {
     "data": {
      "text/plain": [
       "False"
      ]
     },
     "execution_count": 6,
     "metadata": {},
     "output_type": "execute_result"
    }
   ],
   "source": [
    "inventory_count > 5"
   ]
  },
  {
   "cell_type": "markdown",
   "id": "49bbb57f",
   "metadata": {},
   "source": [
    "### Display price if we have more than five units of inventory\n",
    "\n",
    "Now, write logic that displays the price of our product if we have more than five units of inventory, and 0.0 if not.\n",
    "\n",
    "Our current price is 99.99."
   ]
  },
  {
   "cell_type": "code",
   "execution_count": 9,
   "id": "7d1fe791",
   "metadata": {},
   "outputs": [
    {
     "name": "stdout",
     "output_type": "stream",
     "text": [
      "0.0\n"
     ]
    }
   ],
   "source": [
    "price = 99.99\n",
    "print((inventory_count > 5) * price)\n"
   ]
  },
  {
   "cell_type": "markdown",
   "id": "a658be31",
   "metadata": {},
   "source": [
    "### Discount Sale Item Flag\n",
    "\n",
    "Now write logic that returns True if inventory is greater than 0 and the product price is less than 100 dollars."
   ]
  },
  {
   "cell_type": "code",
   "execution_count": 8,
   "id": "3da81983",
   "metadata": {},
   "outputs": [
    {
     "data": {
      "text/plain": [
       "True"
      ]
     },
     "execution_count": 8,
     "metadata": {},
     "output_type": "execute_result"
    }
   ],
   "source": [
    "inventory_count > 0 and price < 100"
   ]
  },
  {
   "cell_type": "markdown",
   "id": "0e16597b",
   "metadata": {},
   "source": [
    "### Special Customer Flag\n",
    "\n",
    "Finally, we need to create logic that returns True if inventory is greater than 0, or the customer's name is Chris AND the product is named 'super_snowboard'."
   ]
  },
  {
   "cell_type": "code",
   "execution_count": 10,
   "id": "50fa1724",
   "metadata": {},
   "outputs": [
    {
     "data": {
      "text/plain": [
       "True"
      ]
     },
     "execution_count": 10,
     "metadata": {},
     "output_type": "execute_result"
    }
   ],
   "source": [
    "customer_name = 'Chris'\n",
    "inventory_count = 0\n",
    "product = 'super_snowboard'\n",
    "inventory_count > 0 or (customer_name == 'Chris' and product == 'super_snowboard')"
   ]
  }
 ],
 "metadata": {
  "kernelspec": {
   "display_name": "Python 3",
   "language": "python",
   "name": "python3"
  },
  "language_info": {
   "codemirror_mode": {
    "name": "ipython",
    "version": 3
   },
   "file_extension": ".py",
   "mimetype": "text/x-python",
   "name": "python",
   "nbconvert_exporter": "python",
   "pygments_lexer": "ipython3",
   "version": "3.13.5"
  }
 },
 "nbformat": 4,
 "nbformat_minor": 5
}

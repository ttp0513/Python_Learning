{
 "cells": [
  {
   "cell_type": "markdown",
   "id": "afeff7d2",
   "metadata": {},
   "source": [
    "### 1. Calculate the gross profit on our snowboard\n",
    "\n",
    "Formula: Price minus cost\n"
   ]
  },
  {
   "cell_type": "code",
   "execution_count": 9,
   "id": "fbdecd04",
   "metadata": {},
   "outputs": [
    {
     "name": "stdout",
     "output_type": "stream",
     "text": [
      "300.0\n"
     ]
    }
   ],
   "source": [
    "snowboard_price = 499.99\n",
    "snowboard_cost = 199.99\n",
    "gross_profit = snowboard_price - snowboard_cost\n",
    "print(gross_profit)"
   ]
  },
  {
   "cell_type": "markdown",
   "id": "f812ebf7",
   "metadata": {},
   "source": [
    "### 2. Calculate the gross margin on our snowboard\n",
    "\n",
    "Formula: Gross profit divided by price"
   ]
  },
  {
   "cell_type": "code",
   "execution_count": 10,
   "id": "9fec0a0d",
   "metadata": {},
   "outputs": [
    {
     "name": "stdout",
     "output_type": "stream",
     "text": [
      "0.6000120002400048\n"
     ]
    }
   ],
   "source": [
    "gross_margin = gross_profit / snowboard_price\n",
    "print(gross_margin)"
   ]
  },
  {
   "cell_type": "markdown",
   "id": "ecb4a248",
   "metadata": {},
   "source": [
    "### 3. Calculate the price needed to obtain a gross margin of 70%\n",
    "\n",
    "Formula:  cost divided by (1 minus the desired margin)."
   ]
  },
  {
   "cell_type": "code",
   "execution_count": 11,
   "id": "ef85028e",
   "metadata": {},
   "outputs": [
    {
     "name": "stdout",
     "output_type": "stream",
     "text": [
      "666.6333333333332\n"
     ]
    }
   ],
   "source": [
    "desired_margin = 0.7\n",
    "price_needed = snowboard_cost / (1 - desired_margin)\n",
    "print(price_needed)"
   ]
  },
  {
   "cell_type": "markdown",
   "id": "bdf79354",
   "metadata": {},
   "source": [
    "### 4. Calculate the sales tax on a sale of our snowboard\n",
    "\n",
    "Tax rate: 8%\n",
    "\n",
    "Formula: Price times tax rate"
   ]
  },
  {
   "cell_type": "code",
   "execution_count": 7,
   "id": "9a00eb4d",
   "metadata": {},
   "outputs": [
    {
     "name": "stdout",
     "output_type": "stream",
     "text": [
      "39.9992\n"
     ]
    }
   ],
   "source": [
    "tax_rate = .08\n",
    "sales_tax = snowboard_price * tax_rate\n",
    "print(sales_tax)\n"
   ]
  },
  {
   "cell_type": "markdown",
   "id": "948e0099",
   "metadata": {},
   "source": [
    "### 5. Return on Profits\n",
    "\n",
    "Calculate the amount of money we'd have if we invested the profit from selling 5 snowboards for one year.\n",
    "\n",
    "Assume an interest rate of 5%.\n",
    "\n",
    "The formula is the amount_invested plus  (amount_invested times interest_rate)"
   ]
  },
  {
   "cell_type": "code",
   "execution_count": null,
   "id": "770afcbd",
   "metadata": {},
   "outputs": [
    {
     "name": "stdout",
     "output_type": "stream",
     "text": [
      "75.0\n"
     ]
    }
   ],
   "source": [
    "amount_invested = gross_profit * 5\n",
    "interest_rate = 0.05\n",
    "interest_earned = amount_invested * interest_rate\n",
    "print(interest_earned)"
   ]
  }
 ],
 "metadata": {
  "kernelspec": {
   "display_name": "Python 3",
   "language": "python",
   "name": "python3"
  },
  "language_info": {
   "codemirror_mode": {
    "name": "ipython",
    "version": 3
   },
   "file_extension": ".py",
   "mimetype": "text/x-python",
   "name": "python",
   "nbconvert_exporter": "python",
   "pygments_lexer": "ipython3",
   "version": "3.13.5"
  }
 },
 "nbformat": 4,
 "nbformat_minor": 5
}

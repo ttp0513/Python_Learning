{
 "cells": [
  {
   "cell_type": "markdown",
   "id": "3ae6e6e6",
   "metadata": {},
   "source": [
    "### Marketing Copy\n",
    "\n",
    "Our testimonial is in the first cell below, assigned to `testimonial`.\n",
    "\n",
    "Run the cell to create the string."
   ]
  },
  {
   "cell_type": "code",
   "execution_count": 1,
   "id": "6075a1ca",
   "metadata": {},
   "outputs": [],
   "source": [
    "testimonial = '''I love skiing. It's my favorite hobby.\n",
    "Some people say, \"It's not a hobby, it's life.\"\n",
    "'''"
   ]
  },
  {
   "cell_type": "markdown",
   "id": "1e1fb424",
   "metadata": {},
   "source": [
    "### First Draft\n",
    "\n",
    "Please create the message 'I love skiing. It's my life.' by slicing  `testimonial`.\n",
    "\n",
    "Assign this message to a variable called `short_testimonial`, and print it."
   ]
  },
  {
   "cell_type": "code",
   "execution_count": 14,
   "id": "5aec1849",
   "metadata": {},
   "outputs": [
    {
     "name": "stdout",
     "output_type": "stream",
     "text": [
      "I love skiing. It's my life.\n"
     ]
    }
   ],
   "source": [
    "short_testimonial = testimonial[:23]+testimonial[-7:-2]\n",
    "\n",
    "print(short_testimonial)"
   ]
  },
  {
   "cell_type": "markdown",
   "id": "af2ee601",
   "metadata": {},
   "source": [
    "### Second Draft\n",
    "\n",
    "We might need to shorten the message (we pay by the word). \n",
    "\n",
    "Slice `short_testimonial` down to 'I love my life!'.\n",
    "\n",
    "You may need to add an exclamation point. Assign this message to `happy_customer`, and print it."
   ]
  },
  {
   "cell_type": "code",
   "execution_count": 15,
   "id": "e175a969",
   "metadata": {},
   "outputs": [
    {
     "name": "stdout",
     "output_type": "stream",
     "text": [
      "I love my life!\n"
     ]
    }
   ],
   "source": [
    "happy_customer = short_testimonial[:7] + short_testimonial[-8:-1]+'!'\n",
    "\n",
    "print(happy_customer)"
   ]
  }
 ],
 "metadata": {
  "kernelspec": {
   "display_name": "Python 3",
   "language": "python",
   "name": "python3"
  },
  "language_info": {
   "codemirror_mode": {
    "name": "ipython",
    "version": 3
   },
   "file_extension": ".py",
   "mimetype": "text/x-python",
   "name": "python",
   "nbconvert_exporter": "python",
   "pygments_lexer": "ipython3",
   "version": "3.13.5"
  }
 },
 "nbformat": 4,
 "nbformat_minor": 5
}

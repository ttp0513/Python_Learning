{
 "cells": [
  {
   "cell_type": "markdown",
   "id": "832983f1",
   "metadata": {},
   "source": [
    "## Problem 1: Cleaning Customer Names\n",
    "**Context:** CRM exports contain messy customer names — inconsistent casing, extra spaces, and embedded numbers.\n",
    "\n",
    "**Task:**\n",
    "- Standardize names to title case.\n",
    "- Remove leading/trailing whitespace.\n",
    "- Count how many names contain digits.\n"
   ]
  },
  {
   "cell_type": "code",
   "execution_count": null,
   "id": "e1d58cc7",
   "metadata": {},
   "outputs": [
    {
     "name": "stdout",
     "output_type": "stream",
     "text": [
      "Number of names containing digit: 2\n",
      "['John Doe', 'Jane Smith123', 'Alice Johnson', 'Bob_456']\n"
     ]
    }
   ],
   "source": [
    "customer_names = ['  JOHN DOE  ', 'jane smith123', 'ALICE Johnson', 'bob_456']\n",
    "\n",
    "# Your code here\n",
    "def standardize_name(name_list):\n",
    "    count = 0\n",
    "    standardize_list = []\n",
    "    for name in name_list:\n",
    "        name = name.title()  # Convert to title case\n",
    "        name = name.strip()  # Remove leading/trailing whitespace\n",
    "        standardize_list.append(name)\n",
    "        for char in name:\n",
    "            if char.isdigit():\n",
    "                count += 1 # Count number of name with digits\n",
    "                break\n",
    "    print(f'Number of names containing digit: {count}')\n",
    "    return (standardize_list)\n",
    "\n",
    "print(standardize_name(customer_names))"
   ]
  },
  {
   "cell_type": "markdown",
   "id": "bead6a83",
   "metadata": {},
   "source": [
    "## Problem 2: Email Domain Analysis\n",
    "**Context:** Marketing wants to segment customers by email domain.\n",
    "\n",
    "**Task:**\n",
    "- Extract domain names.\n",
    "- Count unique domains.\n",
    "- Identify the most common domain.\n"
   ]
  },
  {
   "cell_type": "code",
   "execution_count": 39,
   "id": "975f9a0e",
   "metadata": {},
   "outputs": [
    {
     "name": "stdout",
     "output_type": "stream",
     "text": [
      "{'gmail.com': 1, 'company.com': 2, 'yahoo.com': 1}\n",
      "Most common domain: company.com (2 times)\n"
     ]
    }
   ],
   "source": [
    "emails = ['john.doe@gmail.com', 'jane@company.com', 'alice@yahoo.com', 'bob@company.com']\n",
    "\n",
    "# Your code here\n",
    "domain_counts = {}\n",
    "for email in emails:\n",
    "    email_at_index = email.find('@')\n",
    "    domain = email[email_at_index + 1:] # Extract domain\n",
    "    if domain in domain_counts: # Count domain frequency\n",
    "        domain_counts[domain] += 1\n",
    "    else:\n",
    "        domain_counts[domain] = 1    \n",
    "        \n",
    "print(domain_counts)\n",
    "\n",
    "#Find most common domain\n",
    "most_common_domain = max(domain_counts, key=domain_counts.get)\n",
    "print(f'Most common domain: {most_common_domain} ({domain_counts[most_common_domain]} times)')"
   ]
  },
  {
   "cell_type": "code",
   "execution_count": 40,
   "id": "76cb4675",
   "metadata": {},
   "outputs": [
    {
     "name": "stdout",
     "output_type": "stream",
     "text": [
      "Counter({'company.com': 2, 'gmail.com': 1, 'yahoo.com': 1})\n",
      "Most common domain: company.com (used 2 times)\n"
     ]
    }
   ],
   "source": [
    "# Faster approach with Counter class\n",
    "from collections import Counter\n",
    "\n",
    "emails = ['john.doe@gmail.com', 'jane@company.com', 'alice@yahoo.com', 'bob@company.com']\n",
    "\n",
    "# Extract domains\n",
    "domains = [email.split('@')[1] for email in emails]\n",
    "# Count frequency\n",
    "domain_counts = Counter(domains)\n",
    "\n",
    "# Find most common domain\n",
    "most_common = domain_counts.most_common(1)[0]  # Returns tuple (domain, count)\n",
    "print(domain_counts)\n",
    "print(f'Most common domain: {most_common[0]} (used {most_common[1]} times)')"
   ]
  },
  {
   "cell_type": "markdown",
   "id": "0abbfeff",
   "metadata": {},
   "source": [
    "## Problem 3: Product Code Validation\n",
    "**Context:** Inventory codes must follow the format `\"PRD-###-X\"`.\n",
    "\n",
    "**Task:**\n",
    "- Convert all codes to uppercase.\n",
    "- Check if each starts with `\"PRD-\"`.\n",
    "- Count invalid codes."
   ]
  },
  {
   "cell_type": "code",
   "execution_count": null,
   "id": "059d0c31",
   "metadata": {},
   "outputs": [],
   "source": [
    "product_codes = ['prd-001-a', 'PRD-002-B', 'abc-003-c', 'PRD004D']\n",
    "\n",
    "# Your code here\n"
   ]
  },
  {
   "cell_type": "markdown",
   "id": "839fa3a3",
   "metadata": {},
   "source": [
    "## Problem 4: Invoice Description Cleanup\n",
    "**Context:** Invoice descriptions contain messy punctuation and inconsistent formatting.\n",
    "\n",
    "**Task:**\n",
    "- Remove special characters (`*`, `-`, etc.).\n",
    "- Replace multiple spaces with one.\n",
    "- Capitalize each word."
   ]
  },
  {
   "cell_type": "code",
   "execution_count": null,
   "id": "6ad49752",
   "metadata": {},
   "outputs": [],
   "source": [
    "descriptions = ['**Monthly Fee**', 'Setup--Charge', '  late   payment  ']\n",
    "\n",
    "# Your code here\n"
   ]
  },
  {
   "cell_type": "markdown",
   "id": "67e77cf0",
   "metadata": {},
   "source": [
    "## Problem 5: Social Media Handle Formatter\n",
    "**Context:** Influencer handles are inconsistently formatted.\n",
    "\n",
    "**Task:**\n",
    "- Remove special characters (except `@`).\n",
    "- Convert to lowercase.\n",
    "- Ensure all handles start with `@`.\n"
   ]
  },
  {
   "cell_type": "code",
   "execution_count": null,
   "id": "a6ac9b2a",
   "metadata": {},
   "outputs": [],
   "source": [
    "handles = ['@John_P', 'john.p', 'JOHN-P', 'alice']\n",
    "\n",
    "# Your code here\n"
   ]
  },
  {
   "cell_type": "markdown",
   "id": "fc7f04cf",
   "metadata": {},
   "source": [
    "## Problem 6: Survey Response Analysis\n",
    "**Context:** You’re analyzing open-ended feedback for keywords.\n",
    "\n",
    "**Task:**\n",
    "- Normalize text to lowercase.\n",
    "- Count keyword matches (`refund`, `cancel`, `support`).\n",
    "- Flag responses with multiple keywords."
   ]
  },
  {
   "cell_type": "code",
   "execution_count": null,
   "id": "af17b114",
   "metadata": {},
   "outputs": [],
   "source": [
    "responses = [\n",
    "    \"I want a refund ASAP\",\n",
    "    \"Please cancel my subscription\",\n",
    "    \"Need support urgently\",\n",
    "    \"Just checking in\"\n",
    "]\n",
    "\n",
    "keywords = ['refund', 'cancel', 'support']\n",
    "\n",
    "# Your code here\n"
   ]
  },
  {
   "cell_type": "markdown",
   "id": "77178754",
   "metadata": {},
   "source": [
    "## Problem 7: Financial Note Parsing\n",
    "**Context:** Finance notes contain embedded dollar amounts and dates.\n",
    "\n",
    "**Task:**\n",
    "- Extract dollar amounts.\n",
    "- Extract dates.\n",
    "- Count notes with payments over $500.\n"
   ]
  },
  {
   "cell_type": "code",
   "execution_count": null,
   "id": "7b8f2f48",
   "metadata": {},
   "outputs": [],
   "source": [
    "notes = [\n",
    "    \"Paid $300 on 2025-09-01\",\n",
    "    \"Refunded $750 on 2025-08-15\",\n",
    "    \"Charged $1200 on 2025-07-30\"\n",
    "]\n",
    "\n",
    "# Your code here\n"
   ]
  },
  {
   "cell_type": "markdown",
   "id": "c9bda2eb",
   "metadata": {},
   "source": [
    "## Problem 8: Campaign Tag Generator\n",
    "**Context:** You need to generate campaign tags from product names.\n",
    "\n",
    "**Task:**\n",
    "- Convert names to lowercase.\n",
    "- Replace spaces with underscores.\n",
    "- Add prefix `\"campaign_\"`."
   ]
  },
  {
   "cell_type": "code",
   "execution_count": null,
   "id": "1def8c0b",
   "metadata": {},
   "outputs": [],
   "source": [
    "product_names = ['Wireless Mouse', 'USB-C Hub', 'Gaming Keyboard']\n",
    "\n",
    "# Your code here\n"
   ]
  },
  {
   "cell_type": "markdown",
   "id": "97076be6",
   "metadata": {},
   "source": [
    "## Problem 9: Job Title Normalization\n",
    "**Context:** HR data includes inconsistent job titles.\n",
    "\n",
    "**Task:**\n",
    "- Normalize to lowercase.\n",
    "- Replace abbreviations (`\"Sr.\" → \"senior\"`).\n",
    "- Count unique titles."
   ]
  },
  {
   "cell_type": "code",
   "execution_count": null,
   "id": "19616038",
   "metadata": {},
   "outputs": [],
   "source": [
    "job_titles = ['Sr. Analyst', 'senior analyst', 'SENIOR ANALYST', 'jr. developer']\n",
    "\n",
    "# Your code here\n"
   ]
  },
  {
   "cell_type": "markdown",
   "id": "d15c1943",
   "metadata": {},
   "source": [
    "## Problem 10: Customer Feedback Flagging\n",
    "**Context:** You’re scanning feedback for urgency indicators.\n",
    "\n",
    "**Task:**\n",
    "- Normalize text.\n",
    "- Flag entries with keywords (`ASAP`, `urgent`, `immediately`).\n",
    "- Count flagged entries."
   ]
  },
  {
   "cell_type": "code",
   "execution_count": null,
   "id": "f91b7914",
   "metadata": {},
   "outputs": [],
   "source": [
    "feedback = [\n",
    "    \"Please respond ASAP\",\n",
    "    \"This is urgent\",\n",
    "    \"Can you help me immediately?\",\n",
    "    \"No rush\"\n",
    "]\n",
    "\n",
    "urgency_keywords = ['asap', 'urgent', 'immediately']\n",
    "\n",
    "# Your code here\n"
   ]
  }
 ],
 "metadata": {
  "kernelspec": {
   "display_name": "Python 3",
   "language": "python",
   "name": "python3"
  },
  "language_info": {
   "codemirror_mode": {
    "name": "ipython",
    "version": 3
   },
   "file_extension": ".py",
   "mimetype": "text/x-python",
   "name": "python",
   "nbconvert_exporter": "python",
   "pygments_lexer": "ipython3",
   "version": "3.13.5"
  }
 },
 "nbformat": 4,
 "nbformat_minor": 5
}

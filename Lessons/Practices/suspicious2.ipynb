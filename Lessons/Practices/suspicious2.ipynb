{
 "cells": [
  {
   "cell_type": "markdown",
   "id": "44e91623",
   "metadata": {},
   "source": [
    "### Cryptography\n",
    "\n",
    "\n",
    "\n",
    "\n",
    "Hi there! \n",
    "\n",
    "There are five text message below. I've also convieniently pasted the alphabet for you, which we'll need to crack the code.\n",
    "\n",
    "The length of each message represents the letter in the alphabet for each character in the password. "
   ]
  },
  {
   "cell_type": "code",
   "execution_count": 4,
   "id": "dd1db50e",
   "metadata": {},
   "outputs": [],
   "source": [
    "alphabet = 'abcdefghijklmnopqrstuvwxyz'\n",
    "message1 = 'Hello World!'\n",
    "message2 = ''\n",
    "message3 = 'It snowed a lot today'\n",
    "message4 = 'eeee'\n",
    "message5 = 'I love snow!!'"
   ]
  },
  {
   "cell_type": "markdown",
   "id": "7aa64328",
   "metadata": {},
   "source": [
    "### Crack the Code\n",
    "\n",
    "In the cell below, combine the characters retrieved using the length function into a single string, and assign that to `password`. Then print the password."
   ]
  },
  {
   "cell_type": "code",
   "execution_count": 6,
   "id": "cd36a182",
   "metadata": {},
   "outputs": [
    {
     "name": "stdout",
     "output_type": "stream",
     "text": [
      "maven\n"
     ]
    }
   ],
   "source": [
    "password = (alphabet[len(message1)] +\n",
    "            alphabet[len(message2)] +\n",
    "            alphabet[len(message3)] +\n",
    "            alphabet[len(message4)] +\n",
    "            alphabet[len(message5)])\n",
    "print(password)"
   ]
  }
 ],
 "metadata": {
  "kernelspec": {
   "display_name": "Python 3",
   "language": "python",
   "name": "python3"
  },
  "language_info": {
   "codemirror_mode": {
    "name": "ipython",
    "version": 3
   },
   "file_extension": ".py",
   "mimetype": "text/x-python",
   "name": "python",
   "nbconvert_exporter": "python",
   "pygments_lexer": "ipython3",
   "version": "3.13.5"
  }
 },
 "nbformat": 4,
 "nbformat_minor": 5
}
